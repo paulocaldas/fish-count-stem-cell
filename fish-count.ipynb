{
 "cells": [
  {
   "cell_type": "code",
   "execution_count": null,
   "id": "686596e8-cc58-4edd-a31a-2b6ec6b9d131",
   "metadata": {},
   "outputs": [],
   "source": [
    "# temporary block\n",
    "import sys, os\n",
    "sys.path.append(os.path.abspath('src'))\n",
    "from src import main"
   ]
  },
  {
   "cell_type": "markdown",
   "id": "4ceb5999-aede-4209-a2c7-3ab31dbdcdd6",
   "metadata": {},
   "source": [
    "### Nuclear Segmentation"
   ]
  },
  {
   "cell_type": "code",
   "execution_count": null,
   "id": "c59dcac1-c706-42b3-8e37-362a21ce5802",
   "metadata": {},
   "outputs": [],
   "source": [
    "file = '../../data/2023-11-22/MAT5%_CloneS_P6_3.czi'\n",
    "\n",
    "# read raw image/stacks and adjust parameters\n",
    "\n",
    "im = main.NuclearSegmentation(file,\n",
    "                              sigma = 31,\n",
    "                              cell_dist = 31, \n",
    "                              foci_offset = -2,\n",
    "                              clear_border = True,\n",
    "                              output_folder = 'output')"
   ]
  },
  {
   "cell_type": "code",
   "execution_count": null,
   "id": "6b312583-3cb4-45d9-8b7d-c9ed54d9d507",
   "metadata": {},
   "outputs": [],
   "source": []
  },
  {
   "cell_type": "code",
   "execution_count": null,
   "id": "0d0a4375-81eb-4792-95c8-1f621075d38b",
   "metadata": {},
   "outputs": [],
   "source": []
  },
  {
   "cell_type": "code",
   "execution_count": null,
   "id": "2bca99d2-039b-44d8-98b7-ad3ee9aae137",
   "metadata": {},
   "outputs": [],
   "source": []
  }
 ],
 "metadata": {
  "kernelspec": {
   "display_name": "Python 3 (ipykernel)",
   "language": "python",
   "name": "python3"
  },
  "language_info": {
   "codemirror_mode": {
    "name": "ipython",
    "version": 3
   },
   "file_extension": ".py",
   "mimetype": "text/x-python",
   "name": "python",
   "nbconvert_exporter": "python",
   "pygments_lexer": "ipython3",
   "version": "3.11.7"
  }
 },
 "nbformat": 4,
 "nbformat_minor": 5
}
