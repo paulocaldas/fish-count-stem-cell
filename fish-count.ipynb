{
 "cells": [
  {
   "cell_type": "code",
   "execution_count": 1,
   "id": "686596e8-cc58-4edd-a31a-2b6ec6b9d131",
   "metadata": {},
   "outputs": [],
   "source": [
    "# temporary block\n",
    "import sys, os\n",
    "sys.path.append(os.path.abspath('src'))\n",
    "from src import main"
   ]
  },
  {
   "cell_type": "markdown",
   "id": "4ceb5999-aede-4209-a2c7-3ab31dbdcdd6",
   "metadata": {},
   "source": [
    "### Nuclear Segmentation"
   ]
  },
  {
   "cell_type": "code",
   "execution_count": 5,
   "id": "c59dcac1-c706-42b3-8e37-362a21ce5802",
   "metadata": {},
   "outputs": [
    {
     "ename": "IndexError",
     "evalue": "index 1 is out of bounds for axis 0 with size 1",
     "output_type": "error",
     "traceback": [
      "\u001b[1;31m---------------------------------------------------------------------------\u001b[0m",
      "\u001b[1;31mIndexError\u001b[0m                                Traceback (most recent call last)",
      "Cell \u001b[1;32mIn[5], line 5\u001b[0m\n\u001b[0;32m      1\u001b[0m file \u001b[38;5;241m=\u001b[39m \u001b[38;5;124m'\u001b[39m\u001b[38;5;124m../../data/AnaRaposo/lalala.czi\u001b[39m\u001b[38;5;124m'\u001b[39m\n\u001b[0;32m      3\u001b[0m \u001b[38;5;66;03m# read raw image/stacks and adjust parameters\u001b[39;00m\n\u001b[1;32m----> 5\u001b[0m im \u001b[38;5;241m=\u001b[39m \u001b[43mmain\u001b[49m\u001b[38;5;241;43m.\u001b[39;49m\u001b[43mNuclearSegmentation\u001b[49m\u001b[43m(\u001b[49m\u001b[43mfile\u001b[49m\u001b[43m,\u001b[49m\n\u001b[0;32m      6\u001b[0m \u001b[43m                              \u001b[49m\u001b[43msigma\u001b[49m\u001b[43m \u001b[49m\u001b[38;5;241;43m=\u001b[39;49m\u001b[43m \u001b[49m\u001b[38;5;241;43m31\u001b[39;49m\u001b[43m,\u001b[49m\n\u001b[0;32m      7\u001b[0m \u001b[43m                              \u001b[49m\u001b[43mcell_dist\u001b[49m\u001b[43m \u001b[49m\u001b[38;5;241;43m=\u001b[39;49m\u001b[43m \u001b[49m\u001b[38;5;241;43m31\u001b[39;49m\u001b[43m,\u001b[49m\n\u001b[0;32m      8\u001b[0m \u001b[43m                              \u001b[49m\u001b[43mfoci_offset\u001b[49m\u001b[43m \u001b[49m\u001b[38;5;241;43m=\u001b[39;49m\u001b[43m \u001b[49m\u001b[38;5;241;43m-\u001b[39;49m\u001b[38;5;241;43m2\u001b[39;49m\u001b[43m,\u001b[49m\n\u001b[0;32m      9\u001b[0m \u001b[43m                              \u001b[49m\u001b[43mclear_border\u001b[49m\u001b[43m \u001b[49m\u001b[38;5;241;43m=\u001b[39;49m\u001b[43m \u001b[49m\u001b[38;5;28;43;01mTrue\u001b[39;49;00m\u001b[43m,\u001b[49m\n\u001b[0;32m     10\u001b[0m \u001b[43m                              \u001b[49m\u001b[43moutput_folder\u001b[49m\u001b[43m \u001b[49m\u001b[38;5;241;43m=\u001b[39;49m\u001b[43m \u001b[49m\u001b[38;5;124;43m'\u001b[39;49m\u001b[38;5;124;43moutput\u001b[39;49m\u001b[38;5;124;43m'\u001b[39;49m\u001b[43m)\u001b[49m\n",
      "File \u001b[1;32m~\\OneDrive - FCT NOVA\\Desktop\\FCT-NOVA\\project_FISH\\github\\fish-count-stem-cell\\src\\main.py:25\u001b[0m, in \u001b[0;36mNuclearSegmentation\u001b[1;34m(czi_file, sigma, foci_offset, cell_dist, clear_border, output_folder)\u001b[0m\n\u001b[0;32m     22\u001b[0m \u001b[38;5;28;01mdef\u001b[39;00m \u001b[38;5;21mNuclearSegmentation\u001b[39m(czi_file, sigma \u001b[38;5;241m=\u001b[39m \u001b[38;5;241m51\u001b[39m, foci_offset \u001b[38;5;241m=\u001b[39m \u001b[38;5;241m-\u001b[39m\u001b[38;5;241m2\u001b[39m, cell_dist \u001b[38;5;241m=\u001b[39m \u001b[38;5;241m40\u001b[39m, \n\u001b[0;32m     23\u001b[0m                         clear_border \u001b[38;5;241m=\u001b[39m \u001b[38;5;28;01mTrue\u001b[39;00m, output_folder \u001b[38;5;241m=\u001b[39m \u001b[38;5;124m'\u001b[39m\u001b[38;5;124moutput\u001b[39m\u001b[38;5;124m'\u001b[39m):\n\u001b[1;32m---> 25\u001b[0m     im_r, im_g, im_dapi \u001b[38;5;241m=\u001b[39m \u001b[43mutils\u001b[49m\u001b[38;5;241;43m.\u001b[39;49m\u001b[43mReadCZI\u001b[49m\u001b[43m(\u001b[49m\u001b[43mczi_file\u001b[49m\u001b[43m)\u001b[49m\n\u001b[0;32m     27\u001b[0m     \u001b[38;5;66;03m# apply segmentation column and play with the filters\u001b[39;00m\n\u001b[0;32m     28\u001b[0m     im_g_seg \u001b[38;5;241m=\u001b[39m segmentation\u001b[38;5;241m.\u001b[39mFociSegmentation(im_g,  sigma \u001b[38;5;241m=\u001b[39m sigma, offset \u001b[38;5;241m=\u001b[39m foci_offset, min_size \u001b[38;5;241m=\u001b[39m \u001b[38;5;241m100\u001b[39m, max_size\u001b[38;5;241m=\u001b[39m\u001b[38;5;241m500\u001b[39m)\n",
      "File \u001b[1;32m~\\OneDrive - FCT NOVA\\Desktop\\FCT-NOVA\\project_FISH\\github\\fish-count-stem-cell\\src\\utils.py:28\u001b[0m, in \u001b[0;36mReadCZI\u001b[1;34m(file)\u001b[0m\n\u001b[0;32m     25\u001b[0m \u001b[38;5;66;03m# Perform a Z-projection for each channel (max intensity here)\u001b[39;00m\n\u001b[0;32m     27\u001b[0m c1 \u001b[38;5;241m=\u001b[39m np\u001b[38;5;241m.\u001b[39mmax(multi_channel_array, axis \u001b[38;5;241m=\u001b[39m \u001b[38;5;241m1\u001b[39m)[\u001b[38;5;241m0\u001b[39m] \u001b[38;5;66;03m# RED\u001b[39;00m\n\u001b[1;32m---> 28\u001b[0m c2 \u001b[38;5;241m=\u001b[39m \u001b[43mnp\u001b[49m\u001b[38;5;241;43m.\u001b[39;49m\u001b[43mmax\u001b[49m\u001b[43m(\u001b[49m\u001b[43mmulti_channel_array\u001b[49m\u001b[43m,\u001b[49m\u001b[43m \u001b[49m\u001b[43maxis\u001b[49m\u001b[43m \u001b[49m\u001b[38;5;241;43m=\u001b[39;49m\u001b[43m \u001b[49m\u001b[38;5;241;43m1\u001b[39;49m\u001b[43m)\u001b[49m\u001b[43m[\u001b[49m\u001b[38;5;241;43m1\u001b[39;49m\u001b[43m]\u001b[49m \u001b[38;5;66;03m# GREEN\u001b[39;00m\n\u001b[0;32m     29\u001b[0m c3 \u001b[38;5;241m=\u001b[39m np\u001b[38;5;241m.\u001b[39mmax(multi_channel_array, axis \u001b[38;5;241m=\u001b[39m \u001b[38;5;241m1\u001b[39m)[\u001b[38;5;241m2\u001b[39m] \u001b[38;5;66;03m# BLUE\u001b[39;00m\n\u001b[0;32m     31\u001b[0m c1 \u001b[38;5;241m=\u001b[39m np\u001b[38;5;241m.\u001b[39mclip(c1 \u001b[38;5;241m-\u001b[39m np\u001b[38;5;241m.\u001b[39mmean(c3), \u001b[38;5;241m0\u001b[39m, \u001b[38;5;28;01mNone\u001b[39;00m)\n",
      "\u001b[1;31mIndexError\u001b[0m: index 1 is out of bounds for axis 0 with size 1"
     ]
    }
   ],
   "source": [
    "file = '../../data/AnaRaposo/lalala.czi'\n",
    "\n",
    "# read raw image/stacks and adjust parameters\n",
    "\n",
    "im = main.NuclearSegmentation(file,\n",
    "                              sigma = 31,\n",
    "                              cell_dist = 31,\n",
    "                              foci_offset = -2,\n",
    "                              clear_border = True,\n",
    "                              output_folder = 'output')"
   ]
  },
  {
   "cell_type": "code",
   "execution_count": null,
   "id": "6b312583-3cb4-45d9-8b7d-c9ed54d9d507",
   "metadata": {},
   "outputs": [],
   "source": []
  },
  {
   "cell_type": "code",
   "execution_count": null,
   "id": "0d0a4375-81eb-4792-95c8-1f621075d38b",
   "metadata": {},
   "outputs": [],
   "source": []
  },
  {
   "cell_type": "code",
   "execution_count": null,
   "id": "2bca99d2-039b-44d8-98b7-ad3ee9aae137",
   "metadata": {},
   "outputs": [],
   "source": []
  }
 ],
 "metadata": {
  "kernelspec": {
   "display_name": "Python 3 (ipykernel)",
   "language": "python",
   "name": "python3"
  },
  "language_info": {
   "codemirror_mode": {
    "name": "ipython",
    "version": 3
   },
   "file_extension": ".py",
   "mimetype": "text/x-python",
   "name": "python",
   "nbconvert_exporter": "python",
   "pygments_lexer": "ipython3",
   "version": "3.11.7"
  }
 },
 "nbformat": 4,
 "nbformat_minor": 5
}
